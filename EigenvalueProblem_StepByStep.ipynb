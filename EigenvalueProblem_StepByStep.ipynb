{
 "cells": [
  {
   "cell_type": "markdown",
   "metadata": {},
   "source": [
    "# Solve eigenvalue problem of the Laplacian by finite element method"
   ]
  },
  {
   "cell_type": "markdown",
   "metadata": {},
   "source": [
    "On a square domain $\\Omega$, consider the following eigenvalue problem\n",
    "\n",
    "$$\n",
    "-\\Delta u = \\lambda u \\mbox{ in } \\Omega, u=0 \\mbox{ on } \\partial \\Omega \\:.\n",
    "$$\n",
    "\n",
    "The variational formulation for the above eigenvalue problem is to find $u\\in H_0^1(\\Omega)$ and $\\lambda \\in R$ such that\n",
    "$$\n",
    "\\int_{\\Omega} \\nabla u \\cdot \\nabla v dx = \\lambda \\int_{\\Omega} uvdx \\mbox{ for all }  v \\in H_0^1(\\Omega) \\:.\n",
    "$$\n",
    "\n",
    "Below, we show how to solve the eigenvalue problem step by step.\n",
    "\n",
    "Particular, in this speical case, the first 9 eigenvalue are given by \n",
    "$$\n",
    "\\left\\{\\frac{\\lambda_i}{\\pi^2} \\right\\}_{i=1}^{9}  = \\{2,5,5,8,10,10,13,13,18\\} \\:.\n",
    "$$\n",
    "\n",
    "### Question:\n",
    "    \n",
    "Show the lower and upper bounds for the leading 9 exact eigenvalues.\n",
    "\n",
    "\n",
    "<em>Last updated by Xuefeng LIU, Feb. 14, 2017</em>"
   ]
  },
  {
   "cell_type": "markdown",
   "metadata": {},
   "source": [
    "## Step 1 : Mesh generation and FEM space definition"
   ]
  },
  {
   "cell_type": "code",
   "execution_count": 1,
   "metadata": {},
   "outputs": [],
   "source": [
    "from dolfin import *\n",
    "\n",
    "N=16; h=1.0/N\n",
    "mesh = UnitSquareMesh(N, N)\n",
    "V = FunctionSpace(mesh, \"CG\", 1)\n",
    "\n",
    "# define Dirichlet boundary conditions\n",
    "def bdry(x, on_boundary):  return on_boundary\n",
    "\n",
    "bc = DirichletBC(V, Constant(0.0), bdry)"
   ]
  },
  {
   "cell_type": "markdown",
   "metadata": {},
   "source": [
    "## Step 2: Variational formulation"
   ]
  },
  {
   "cell_type": "code",
   "execution_count": 2,
   "metadata": {},
   "outputs": [],
   "source": [
    "# Define basis and bilinear form\n",
    "u = TrialFunction(V)\n",
    "v = TestFunction(V)\n",
    "a = dot(grad(u), grad(v))*dx\n",
    "b = dot(u, v)*dx\n",
    "\n",
    "L = v*dx # To feed an argument to assemble_system\n",
    "\n",
    "# Assemble the stiffness matrix and the mass matrix.\n",
    "A, _ = assemble_system(a, L, bc) #The assemble_system commands make sure the symmetry of A\n",
    "\n",
    "B = assemble(b)\n",
    "\n",
    "# set the diagonal elements of B corresponding to boundary nodes to zero to\n",
    "# remove spurious eigenvalues.\n",
    "#bc.zero(B)"
   ]
  },
  {
   "cell_type": "markdown",
   "metadata": {},
   "source": [
    "## Step 3: Calculate matrix and solve the matrix eigenvalue problem"
   ]
  },
  {
   "cell_type": "code",
   "execution_count": 3,
   "metadata": {},
   "outputs": [],
   "source": [
    "# downcast to PETSc matrices\n",
    "MatA = as_backend_type(A)\n",
    "MatB = as_backend_type(B)\n",
    "\n",
    "# Create eigensolver\n",
    "eigensolver = SLEPcEigenSolver(MatA, MatB)\n",
    "# Specify the part of the spectrum desired\n",
    "eigensolver.parameters[\"spectrum\"] = \"smallest magnitude\"\n",
    "# Specify the problem type (this can make a big difference)\n",
    "eigensolver.parameters[\"problem_type\"] = \"gen_hermitian\"\n",
    "# Use the shift-and-invert spectral transformation\n",
    "eigensolver.parameters[\"spectral_transform\"] = \"shift-and-invert\"\n",
    "# Specify the shift\n",
    "eigensolver.parameters[\"spectral_shift\"] = 1.0e-10\n",
    "\n",
    "# Compute the eigenvalues. Here is where we specify the number of eigenvalues.\n",
    "nreq = 9\n",
    "eigensolver.solve(nreq)"
   ]
  },
  {
   "cell_type": "markdown",
   "metadata": {},
   "source": [
    "## Step 4: Extract the eigenvalue and eigenfunction "
   ]
  },
  {
   "cell_type": "code",
   "execution_count": 11,
   "metadata": {},
   "outputs": [
    {
     "name": "stdout",
     "output_type": "stream",
     "text": [
      "The 1th approximate eigenvalue: 19.929513=   2.019*pi^2 (exact one:   2*pi^2)\n",
      "The 2th approximate eigenvalue: 50.162062=   5.082*pi^2 (exact one:   5*pi^2)\n",
      "The 3th approximate eigenvalue: 50.628396=   5.130*pi^2 (exact one:   5*pi^2)\n",
      "The 4th approximate eigenvalue: 81.952730=   8.304*pi^2 (exact one:   8*pi^2)\n",
      "The 5th approximate eigenvalue: 102.424349=  10.378*pi^2 (exact one:  10*pi^2)\n",
      "The 6th approximate eigenvalue: 102.509086=  10.386*pi^2 (exact one:  10*pi^2)\n",
      "The 7th approximate eigenvalue: 133.868267=  13.564*pi^2 (exact one:  13*pi^2)\n",
      "The 8th approximate eigenvalue: 137.914570=  13.974*pi^2 (exact one:  13*pi^2)\n",
      "The 9th approximate eigenvalue: 177.881329=  18.023*pi^2 (exact one:  18*pi^2)\n"
     ]
    }
   ],
   "source": [
    "import numpy as np\n",
    "\n",
    "exact_eigvalues = np.array([2,5,5,8,10,10,13,13,18])*pi**2;\n",
    "\n",
    "# Extract the leading eigenpair from the smallest eigenvalue.\n",
    "for k in range(0,9):\n",
    "    r, c, rx, cx = eigensolver.get_eigenpair(k)\n",
    "    exact_eig = exact_eigvalues[k]    \n",
    "    print \"The %dth approximate eigenvalue: %f=%8.3f*pi^2 (exact one:%4d*pi^2)\"%(k+1,r, r/(pi**2), np.rint(exact_eig/(pi**2)))"
   ]
  },
  {
   "cell_type": "markdown",
   "metadata": {},
   "source": [
    "## Solve the eignevalue by using sci sparse eigenvalue solver."
   ]
  },
  {
   "cell_type": "code",
   "execution_count": 22,
   "metadata": {},
   "outputs": [
    {
     "name": "stdout",
     "output_type": "stream",
     "text": [
      "[  19.92951329   50.16206241   50.62839618   81.95272975  102.42434901\n",
      "  102.509086  ]\n"
     ]
    }
   ],
   "source": [
    "#Reference: https://docs.scipy.org/doc/scipy/reference/generated/scipy.sparse.linalg.eigsh.html\n",
    "\n",
    "from PETSc2CSR import *\n",
    "from scipy.sparse.linalg import eigsh\n",
    "\n",
    "sA = PETSc2CSR(MatA)\n",
    "sB = PETSc2CSR(MatB)\n",
    "eigenvalues = eigsh(sA,k=6, M=sB,which=\"SM\",return_eigenvectors=False,mode=\"normal\")\n",
    "eigenvalues.sort()\n",
    "print(eigenvalues)"
   ]
  },
  {
   "cell_type": "markdown",
   "metadata": {},
   "source": [
    "## Step 5: Draw the eigenfunction\n",
    "\n",
    "Please choose eig_index to be from 0 to 8 and check the shape of eigenfunction."
   ]
  },
  {
   "cell_type": "code",
   "execution_count": 22,
   "metadata": {},
   "outputs": [
    {
     "data": {
      "text/plain": [
       "<matplotlib.figure.Figure at 0x7ff1a85735d0>"
      ]
     },
     "metadata": {},
     "output_type": "display_data"
    }
   ],
   "source": [
    "import matplotlib.pyplot as plt\n",
    "from mpl_toolkits.mplot3d import Axes3D\n",
    "from matplotlib import cm\n",
    "\n",
    "#Please choose the eige_index from 0 to 8.\n",
    "eig_index=0\n",
    "r, c, rx, cx = eigensolver.get_eigenpair(eig_index)\n",
    "\n",
    "nodes = mesh.coordinates()\n",
    "x = nodes[:,0]\n",
    "y = nodes[:,1]\n",
    "\n",
    "u = Function(V)\n",
    "u.vector()[:] = rx \n",
    "z = u.compute_vertex_values(mesh)\n",
    "\n",
    "fig = plt.figure()\n",
    "ax = fig.gca(projection='3d')\n",
    "ax.plot_trisurf(x, y, z, cmap=cm.jet, linewidth=0.2)\n",
    "plt.show()"
   ]
  },
  {
   "cell_type": "markdown",
   "metadata": {},
   "source": [
    "## Question:\n",
    "    \n",
    "Show the lower and upper bounds for the leading 9 exact eigenvalues.\n"
   ]
  },
  {
   "cell_type": "code",
   "execution_count": null,
   "metadata": {
    "collapsed": true
   },
   "outputs": [],
   "source": []
  }
 ],
 "metadata": {
  "kernelspec": {
   "display_name": "Python 2",
   "language": "python",
   "name": "python2"
  },
  "language_info": {
   "codemirror_mode": {
    "name": "ipython",
    "version": 2
   },
   "file_extension": ".py",
   "mimetype": "text/x-python",
   "name": "python",
   "nbconvert_exporter": "python",
   "pygments_lexer": "ipython2",
   "version": "2.7.15rc1"
  }
 },
 "nbformat": 4,
 "nbformat_minor": 1
}
